{
 "cells": [
  {
   "cell_type": "code",
   "execution_count": null,
   "id": "27e10988-de30-49e3-a338-f3e62c566684",
   "metadata": {},
   "outputs": [
    {
     "name": "stdin",
     "output_type": "stream",
     "text": [
      "Enter the name of the user: Ram\n",
      "Enter the new phone number:  9864543546\n"
     ]
    },
    {
     "name": "stdout",
     "output_type": "stream",
     "text": [
      "Phone number is updated successfully.\n",
      "{'Ram': 9864543546, 'Shyam': 9876543210, 'Sita': 9988776655, 'Mohan': 1234567890}\n"
     ]
    }
   ],
   "source": [
    "phonebook = {\"Ram\": 9864543546, \"Shyam\": 9876543210, \"Sita\": 9988776655}\n",
    "user_name = input(\"Enter the name of the user:\")\n",
    "if user_name in phonebook:\n",
    "    new_number = int(input(\"Enter the new phone number: \"))\n",
    "    phonebook[user_name] = new_number\n",
    "    print(\"Phone number is updated successfully.\")\n",
    "else:\n",
    "    print(\"User not founnd\")\n",
    "phonebook[\"Mohan\"] = 1234567890\n",
    "print(phonebook)\n",
    "user_name1 = input(\"Enter the name of the user to delete:\")\n",
    "if user_name1 in phonebook:\n",
    "    del phonebook[user_name1]\n",
    "    print(\"User deleted successfully.\")\n",
    "phonebook.clear()   # Used to clear the dictionary\n",
    "print(phonebook)\n",
    "print(phonebook.keys())\n",
    "print(phonebook.values())"
   ]
  },
  {
   "cell_type": "code",
   "execution_count": null,
   "id": "cd05dd7f-68f0-4991-9b28-5a5035651bfc",
   "metadata": {},
   "outputs": [],
   "source": []
  }
 ],
 "metadata": {
  "kernelspec": {
   "display_name": "Python 3 (ipykernel)",
   "language": "python",
   "name": "python3"
  },
  "language_info": {
   "codemirror_mode": {
    "name": "ipython",
    "version": 3
   },
   "file_extension": ".py",
   "mimetype": "text/x-python",
   "name": "python",
   "nbconvert_exporter": "python",
   "pygments_lexer": "ipython3",
   "version": "3.12.7"
  }
 },
 "nbformat": 4,
 "nbformat_minor": 5
}
