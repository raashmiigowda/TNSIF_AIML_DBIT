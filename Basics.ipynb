{
 "cells": [
  {
   "cell_type": "code",
   "execution_count": 1,
   "id": "75792388-9348-4852-bc2b-b5ddfb67c784",
   "metadata": {},
   "outputs": [
    {
     "name": "stdout",
     "output_type": "stream",
     "text": [
      "<class 'int'>\n"
     ]
    }
   ],
   "source": [
    "a = 10\n",
    "print(type(a))"
   ]
  },
  {
   "cell_type": "code",
   "execution_count": 2,
   "id": "5f6f2d39-22eb-4964-8fe1-3bfe3b17bdf3",
   "metadata": {},
   "outputs": [
    {
     "name": "stdout",
     "output_type": "stream",
     "text": [
      "<class 'float'>\n"
     ]
    }
   ],
   "source": [
    "b = 10.24\n",
    "print(type(b))"
   ]
  },
  {
   "cell_type": "code",
   "execution_count": 3,
   "id": "76536d2e-2969-486d-8bbe-28c38a9d526b",
   "metadata": {},
   "outputs": [
    {
     "name": "stdout",
     "output_type": "stream",
     "text": [
      "<class 'str'>\n"
     ]
    }
   ],
   "source": [
    "c = \"Hello, World!\"\n",
    "print(type(c))"
   ]
  },
  {
   "cell_type": "code",
   "execution_count": 4,
   "id": "2f8ab9c0-a594-4f91-9f21-03e16db56795",
   "metadata": {},
   "outputs": [
    {
     "name": "stdout",
     "output_type": "stream",
     "text": [
      "<class 'bool'>\n"
     ]
    }
   ],
   "source": [
    "d = True\n",
    "print(type(d))"
   ]
  },
  {
   "cell_type": "code",
   "execution_count": 5,
   "id": "392d92da-df86-4d5b-a6db-e7bf9534ede5",
   "metadata": {},
   "outputs": [
    {
     "name": "stdout",
     "output_type": "stream",
     "text": [
      "<class 'list'>\n",
      "<class 'tuple'>\n",
      "<class 'set'>\n",
      "<class 'dict'>\n"
     ]
    }
   ],
   "source": [
    "e = [1, 2, 3, 4, 5]\n",
    "print(type(e))\n",
    "f = (1, 2, 3)\n",
    "print(type(f))\n",
    "g = {1, 2, 3}\n",
    "print(type(g))\n",
    "h = {'name': 'Alice', 'age': 30}\n",
    "print(type(h))"
   ]
  },
  {
   "cell_type": "code",
   "execution_count": 6,
   "id": "f4efcd35-e19b-4780-84c4-6b4363c65979",
   "metadata": {},
   "outputs": [
    {
     "name": "stdin",
     "output_type": "stream",
     "text": [
      "Enter an integer:  23\n"
     ]
    },
    {
     "name": "stdout",
     "output_type": "stream",
     "text": [
      "23\n"
     ]
    },
    {
     "name": "stdin",
     "output_type": "stream",
     "text": [
      "Enter your name:  rashmi\n"
     ]
    },
    {
     "name": "stdout",
     "output_type": "stream",
     "text": [
      "Hello, rashmi!\n"
     ]
    }
   ],
   "source": [
    "m = int(input(\"Enter an integer: \"))\n",
    "print(m)\n",
    "name = input(\"Enter your name: \")\n",
    "print(f\"Hello, {name}!\")"
   ]
  },
  {
   "cell_type": "code",
   "execution_count": null,
   "id": "9afaf09d-5e8b-48ff-bc57-6d70ac5fe11b",
   "metadata": {},
   "outputs": [
    {
     "name": "stdin",
     "output_type": "stream",
     "text": [
      "Enter PIN: 123456\n"
     ]
    },
    {
     "name": "stdout",
     "output_type": "stream",
     "text": [
      "Invalid PIN. Please try again.\n"
     ]
    }
   ],
   "source": [
    "def atm_machine():\n",
    "  pin_count = 0\n",
    "  balance = 15000  # Initialize balance inside the function\n",
    "  while(pin_count<=3):\n",
    "    pin = input(\"Enter PIN:\")\n",
    "    if(pin == '1234'):\n",
    "      print(\" 1. Withdraw Cash 2. Deposit  3.Check Balance\")\n",
    "      choice = int(input(\"Enter the number (1,2,3):\"))\n",
    "      if choice == 1:\n",
    "        print(\"Enter amount to Withdraw:\")\n",
    "        withdraw_amount = int(input())\n",
    "        if withdraw_amount > balance:\n",
    "          print(\"Insufficient Balance\")\n",
    "        else:\n",
    "          balance = balance - withdraw_amount\n",
    "        print(\"Withdraw Successful\")\n",
    "      elif choice == 2:\n",
    "        print(\"Enter amount to Deposit:\")\n",
    "        deposit_amount = int(input())\n",
    "        balance = balance + deposit_amount\n",
    "        print(\"Deposit Successful\")\n",
    "      elif choice == 3:\n",
    "        print(\"Your Balance is:\",balance)\n",
    "      break # Exit the loop after successful PIN entry and transaction\n",
    "    else:\n",
    "      pin_count += 1\n",
    "      if pin_count <= 3:\n",
    "          print(\"Invalid PIN. Please try again.\")\n",
    "      else:\n",
    "          print(\"Too many incorrect attempts. Your card is blocked.\")\n",
    "\n",
    "atm_machine() # Call the function"
   ]
  },
  {
   "cell_type": "code",
   "execution_count": null,
   "id": "b21f9776-f80a-47f7-ba0d-2fd7989de017",
   "metadata": {},
   "outputs": [],
   "source": []
  }
 ],
 "metadata": {
  "kernelspec": {
   "display_name": "Python 3 (ipykernel)",
   "language": "python",
   "name": "python3"
  },
  "language_info": {
   "codemirror_mode": {
    "name": "ipython",
    "version": 3
   },
   "file_extension": ".py",
   "mimetype": "text/x-python",
   "name": "python",
   "nbconvert_exporter": "python",
   "pygments_lexer": "ipython3",
   "version": "3.12.7"
  }
 },
 "nbformat": 4,
 "nbformat_minor": 5
}
