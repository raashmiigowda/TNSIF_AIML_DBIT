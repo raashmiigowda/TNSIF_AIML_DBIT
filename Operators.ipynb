{
 "cells": [
  {
   "cell_type": "code",
   "execution_count": 1,
   "id": "2994671c-bcfa-4388-a43a-069d56c5e995",
   "metadata": {},
   "outputs": [
    {
     "name": "stdin",
     "output_type": "stream",
     "text": [
      "Enter first number:  12\n",
      "Enter second number:  23\n"
     ]
    },
    {
     "name": "stdout",
     "output_type": "stream",
     "text": [
      "The sum of 12 and 23 is 35\n"
     ]
    }
   ],
   "source": [
    "#Sum\n",
    "number1 = int(input(\"Enter first number: \"))\n",
    "number2 = int(input(\"Enter second number: \"))\n",
    "sum = number1 + number2\n",
    "print(\"The sum of {0} and {1} is {2}\".format(number1, number2, sum))"
   ]
  },
  {
   "cell_type": "code",
   "execution_count": 2,
   "id": "153383e0-4dc8-4ed5-b67b-adae847c979d",
   "metadata": {},
   "outputs": [
    {
     "name": "stdout",
     "output_type": "stream",
     "text": [
      "The difference of 12 and 23 is -11\n"
     ]
    }
   ],
   "source": [
    "#Difference\n",
    "difference = number1 - number2\n",
    "print(\"The difference of {0} and {1} is {2}\".format(number1, number2, difference))"
   ]
  },
  {
   "cell_type": "code",
   "execution_count": 3,
   "id": "b4bac836-92e7-4156-b24a-752a3fb2e6e0",
   "metadata": {},
   "outputs": [
    {
     "name": "stdout",
     "output_type": "stream",
     "text": [
      "The product of 12 and 23 is 276\n",
      "The quotient of 12 and 23 is 0.5217391304347826\n",
      "The remainder of 12 and 23 is 12\n",
      "The exponent of 12 and 23 is 6624737266949237011120128\n",
      "The floor division of 12 and 23 is 0\n"
     ]
    }
   ],
   "source": [
    "#Product\n",
    "product = number1 * number2\n",
    "print(\"The product of {0} and {1} is {2}\".format(number1, number2, product))\n",
    "#Quotient\n",
    "quotient = number1 / number2\n",
    "print(\"The quotient of {0} and {1} is {2}\".format(number1, number2, quotient))\n",
    "#Remainder\n",
    "remainder = number1 % number2\n",
    "print(\"The remainder of {0} and {1} is {2}\".format(number1, number2, remainder))\n",
    "#Exponent\n",
    "exponent = number1 ** number2\n",
    "print(\"The exponent of {0} and {1} is {2}\".format(number1, number2, exponent))\n",
    "#Floor Division\n",
    "floor_division = number1 // number2\n",
    "print(\"The floor division of {0} and {1} is {2}\".format(number1, number2, floor_division))"
   ]
  },
  {
   "cell_type": "code",
   "execution_count": 4,
   "id": "bc2167c1-f050-4bfe-a3bd-3e79b0cfb044",
   "metadata": {},
   "outputs": [
    {
     "name": "stdout",
     "output_type": "stream",
     "text": [
      "AND OPERATORS\n",
      "False\n",
      "True\n",
      "False\n",
      "False\n",
      "OR OPERATORS\n",
      "True\n",
      "True\n",
      "False\n",
      "True\n",
      "NOT OPERATORS\n",
      "False\n",
      "True\n"
     ]
    }
   ],
   "source": [
    "#AND OPERATORS\n",
    "print(\"AND OPERATORS\")\n",
    "a = True\n",
    "b = False\n",
    "print(a and b)\n",
    "print(a and a)\n",
    "print(b and b)\n",
    "print(b and a)\n",
    "\n",
    "#OR OPERATORS\n",
    "print(\"OR OPERATORS\")\n",
    "a = True\n",
    "b = False\n",
    "print(a or b)\n",
    "print(a or a)\n",
    "print(b or b)\n",
    "print(b or a)\n",
    "\n",
    "#NOT OPERATORS\n",
    "print(\"NOT OPERATORS\")\n",
    "a = True\n",
    "b = False\n",
    "print(not a)\n",
    "print(not b)"
   ]
  },
  {
   "cell_type": "code",
   "execution_count": null,
   "id": "7903348c-c05e-4534-8a32-9fee52b23e40",
   "metadata": {},
   "outputs": [],
   "source": []
  }
 ],
 "metadata": {
  "kernelspec": {
   "display_name": "Python 3 (ipykernel)",
   "language": "python",
   "name": "python3"
  },
  "language_info": {
   "codemirror_mode": {
    "name": "ipython",
    "version": 3
   },
   "file_extension": ".py",
   "mimetype": "text/x-python",
   "name": "python",
   "nbconvert_exporter": "python",
   "pygments_lexer": "ipython3",
   "version": "3.12.7"
  }
 },
 "nbformat": 4,
 "nbformat_minor": 5
}
