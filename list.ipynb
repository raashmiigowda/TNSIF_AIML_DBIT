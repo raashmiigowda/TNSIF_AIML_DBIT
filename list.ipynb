{
 "cells": [
  {
   "cell_type": "code",
   "execution_count": 1,
   "id": "a7c6d80a-3625-4f0d-8f33-b8fdd6301ea7",
   "metadata": {},
   "outputs": [
    {
     "name": "stdout",
     "output_type": "stream",
     "text": [
      "Original List: [1, 2, 3, 4, 5]\n"
     ]
    }
   ],
   "source": [
    "#Basics of Lists in Python\n",
    "#Creating a list\n",
    "my_list = [1, 2, 3, 4, 5]\n",
    "print(\"Original List:\", my_list)"
   ]
  },
  {
   "cell_type": "code",
   "execution_count": 2,
   "id": "30e6a688-cbfd-4b9c-8b92-b4053ba327f7",
   "metadata": {},
   "outputs": [
    {
     "name": "stdout",
     "output_type": "stream",
     "text": [
      "First Element: 1\n",
      "Last Element: 5\n"
     ]
    }
   ],
   "source": [
    "#Accessing elements\n",
    "print(\"First Element:\", my_list[0])\n",
    "print(\"Last Element:\", my_list[-1])"
   ]
  },
  {
   "cell_type": "code",
   "execution_count": 3,
   "id": "7201d485-17dd-43e4-a6a1-407c8d16e076",
   "metadata": {},
   "outputs": [
    {
     "name": "stdout",
     "output_type": "stream",
     "text": [
      "Modified List: [1, 2, 10, 4, 5]\n"
     ]
    }
   ],
   "source": [
    "#Modifying elements\n",
    "my_list[2] = 10\n",
    "print(\"Modified List:\", my_list)"
   ]
  },
  {
   "cell_type": "code",
   "execution_count": 4,
   "id": "8cee6541-487a-4ebe-9443-0eb1d973cafe",
   "metadata": {},
   "outputs": [
    {
     "name": "stdout",
     "output_type": "stream",
     "text": [
      "List after append: [1, 2, 10, 4, 5, 6]\n",
      "List after insert: [0, 1, 2, 10, 4, 5, 6]\n"
     ]
    }
   ],
   "source": [
    "#Adding elements\n",
    "my_list.append(6)\n",
    "print(\"List after append:\", my_list)\n",
    "my_list.insert(0, 0)\n",
    "print(\"List after insert:\", my_list)"
   ]
  },
  {
   "cell_type": "code",
   "execution_count": 5,
   "id": "e4bbd988-c22e-47b4-b6bb-8c4f9bbe54f6",
   "metadata": {},
   "outputs": [
    {
     "name": "stdout",
     "output_type": "stream",
     "text": [
      "List after remove: [0, 1, 2, 4, 5, 6]\n"
     ]
    }
   ],
   "source": [
    "#Removing elements\n",
    "my_list.remove(10)\n",
    "print(\"List after remove:\", my_list)"
   ]
  },
  {
   "cell_type": "code",
   "execution_count": 6,
   "id": "5ef9f177-44df-42aa-874f-ebf124e9b5a9",
   "metadata": {},
   "outputs": [
    {
     "name": "stdout",
     "output_type": "stream",
     "text": [
      "Popped Element: 6\n",
      "List after pop: [0, 1, 2, 4, 5]\n"
     ]
    }
   ],
   "source": [
    "#Popping elements\n",
    "popped_element = my_list.pop()\n",
    "print(\"Popped Element:\", popped_element)\n",
    "print(\"List after pop:\", my_list)"
   ]
  },
  {
   "cell_type": "code",
   "execution_count": 7,
   "id": "b055f11d-f462-476f-a3f8-e9e4372df1f9",
   "metadata": {},
   "outputs": [
    {
     "name": "stdout",
     "output_type": "stream",
     "text": [
      "Sliced List (1:4): [1, 2, 4]\n",
      "Sliced List (start to 3): [0, 1, 2]\n",
      "Sliced List (3 to end): [4, 5]\n",
      "Sliced List (every 2nd element): [0, 2, 5]\n"
     ]
    }
   ],
   "source": [
    "#Indexing and Slicing\n",
    "print(\"Sliced List (1:4):\", my_list[1:4])\n",
    "print(\"Sliced List (start to 3):\", my_list[:3])\n",
    "print(\"Sliced List (3 to end):\", my_list[3:])\n",
    "print(\"Sliced List (every 2nd element):\", my_list[::2])"
   ]
  },
  {
   "cell_type": "code",
   "execution_count": 8,
   "id": "9bc1861f-6b7c-4fff-8510-a6a0abda34d1",
   "metadata": {},
   "outputs": [
    {
     "name": "stdout",
     "output_type": "stream",
     "text": [
      "Squared List using Comprehension: [0, 1, 4, 16, 25]\n"
     ]
    }
   ],
   "source": [
    "#List Comprehensions\n",
    "squared_list = [x**2 for x in my_list]\n",
    "print(\"Squared List using Comprehension:\", squared_list)"
   ]
  },
  {
   "cell_type": "code",
   "execution_count": 9,
   "id": "9d167368-70f9-4e4a-b91d-536951c71f25",
   "metadata": {},
   "outputs": [
    {
     "name": "stdout",
     "output_type": "stream",
     "text": [
      "Sorted List: [0, 1, 2, 4, 5]\n",
      "Reverse Sorted List: [5, 4, 2, 1, 0]\n"
     ]
    }
   ],
   "source": [
    "#Sorting a list\n",
    "my_list.sort()\n",
    "print(\"Sorted List:\", my_list)\n",
    "my_list.sort(reverse=True)\n",
    "print(\"Reverse Sorted List:\", my_list)"
   ]
  },
  {
   "cell_type": "code",
   "execution_count": 10,
   "id": "a6bfc765-9d2a-4211-83da-8b019030f400",
   "metadata": {},
   "outputs": [
    {
     "name": "stdout",
     "output_type": "stream",
     "text": [
      "Length of List: 5\n"
     ]
    }
   ],
   "source": [
    "#Length of a list\n",
    "print(\"Length of List:\", len(my_list))"
   ]
  },
  {
   "cell_type": "code",
   "execution_count": 11,
   "id": "237a5f8f-9078-44a5-8472-f4d2f0b73c10",
   "metadata": {},
   "outputs": [
    {
     "name": "stdout",
     "output_type": "stream",
     "text": [
      "List after clear: []\n"
     ]
    }
   ],
   "source": [
    "#Clearing the list\n",
    "my_list.clear()\n",
    "print(\"List after clear:\", my_list)"
   ]
  },
  {
   "cell_type": "code",
   "execution_count": null,
   "id": "e93fb866-4eb2-468f-98a8-e6acc58c262e",
   "metadata": {},
   "outputs": [],
   "source": []
  }
 ],
 "metadata": {
  "kernelspec": {
   "display_name": "Python 3 (ipykernel)",
   "language": "python",
   "name": "python3"
  },
  "language_info": {
   "codemirror_mode": {
    "name": "ipython",
    "version": 3
   },
   "file_extension": ".py",
   "mimetype": "text/x-python",
   "name": "python",
   "nbconvert_exporter": "python",
   "pygments_lexer": "ipython3",
   "version": "3.12.7"
  }
 },
 "nbformat": 4,
 "nbformat_minor": 5
}
