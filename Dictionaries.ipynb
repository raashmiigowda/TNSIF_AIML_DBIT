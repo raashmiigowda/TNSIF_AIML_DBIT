{
 "cells": [
  {
   "cell_type": "code",
   "execution_count": 1,
   "id": "1a4b85c0-76d8-40d4-bada-77bf05361aed",
   "metadata": {},
   "outputs": [
    {
     "name": "stdout",
     "output_type": "stream",
     "text": [
      "{'John': 9876543210, 'Alice': 8765432109, 'Bob': 7654321098}\n"
     ]
    }
   ],
   "source": [
    "#Basics of Dictionary in Python\n",
    "phonebook = {\"John\": 9876543210, \"Alice\": 8765432109, \"Bob\": 7654321098}\n",
    "print(phonebook)"
   ]
  },
  {
   "cell_type": "code",
   "execution_count": 2,
   "id": "2b12f820-522d-4ae2-9709-88e5f38c02f6",
   "metadata": {},
   "outputs": [
    {
     "name": "stdout",
     "output_type": "stream",
     "text": [
      "8765432109\n"
     ]
    }
   ],
   "source": [
    "print(phonebook[\"Alice\"])  # Accessing value using key"
   ]
  },
  {
   "cell_type": "code",
   "execution_count": 3,
   "id": "612b84af-31c5-4ee4-b5b0-35e3adbf2de5",
   "metadata": {},
   "outputs": [
    {
     "name": "stdout",
     "output_type": "stream",
     "text": [
      "<class 'dict'>\n"
     ]
    }
   ],
   "source": [
    "print(type(phonebook))  # To check the data type"
   ]
  },
  {
   "cell_type": "code",
   "execution_count": 4,
   "id": "5930948e-3b56-47d9-8c8f-9d90b165e592",
   "metadata": {},
   "outputs": [
    {
     "name": "stdout",
     "output_type": "stream",
     "text": [
      "3\n"
     ]
    }
   ],
   "source": [
    "print(len(phonebook))   # To check the length of the dictionary"
   ]
  },
  {
   "cell_type": "code",
   "execution_count": 5,
   "id": "976cc37f-a59e-45cc-9c81-755795d6859e",
   "metadata": {},
   "outputs": [
    {
     "name": "stdout",
     "output_type": "stream",
     "text": [
      "9876543210\n"
     ]
    }
   ],
   "source": [
    "print(phonebook[\"John\"])  # Accessing value using key"
   ]
  },
  {
   "cell_type": "code",
   "execution_count": 6,
   "id": "b4e86eef-eef3-446a-87f7-64694a287033",
   "metadata": {},
   "outputs": [
    {
     "name": "stdout",
     "output_type": "stream",
     "text": [
      "{'John': 9876543210, 'Alice': 8765432109, 'Bob': 7654321098, 'Eve': 6543210987}\n"
     ]
    }
   ],
   "source": [
    "phonebook[\"Eve\"] = 6543210987  # Adding a new key-value pair\n",
    "print(phonebook)\n"
   ]
  },
  {
   "cell_type": "code",
   "execution_count": 10,
   "id": "844418bf-d312-40dc-a07c-521a00e98ebd",
   "metadata": {},
   "outputs": [
    {
     "name": "stdin",
     "output_type": "stream",
     "text": [
      "Enter the name of the user to search: Bob\n"
     ]
    },
    {
     "name": "stdout",
     "output_type": "stream",
     "text": [
      "Bob's phone number is 7654321098\n"
     ]
    }
   ],
   "source": [
    "user_name = input(\"Enter the name of the user to search:\")\n",
    "if user_name in phonebook:\n",
    "    print(f\"{user_name}'s phone number is {phonebook[user_name]}\")\n",
    "else:\n",
    "    print(\"User not found.\")"
   ]
  },
  {
   "cell_type": "code",
   "execution_count": 9,
   "id": "bde91c25-5968-4675-add5-aec0f5d5d843",
   "metadata": {},
   "outputs": [
    {
     "name": "stdin",
     "output_type": "stream",
     "text": [
      "Enter number of employees:  2\n",
      "Enter employee name :  Bob\n",
      "Enter employee number : 123\n",
      "Enter employee name :  Ram\n",
      "Enter employee number : 234\n"
     ]
    },
    {
     "name": "stdout",
     "output_type": "stream",
     "text": [
      "Employee Name and Number: {'Bob': '123', 'Ram': '234'}\n"
     ]
    }
   ],
   "source": [
    "#Write a program to input ‘n’ employee numbers and names and store them in a dictionary. Display dictionaries employee’s names(key) and numbers(values) together.\n",
    "number_of_employee = int(input(\"Enter number of employees: \"))\n",
    "employee_dict = {}\n",
    "for i in range(number_of_employee):\n",
    "    employee_name = input(\"Enter employee name : \")\n",
    "    employee_number = input(\"Enter employee number :\")\n",
    "    employee_dict[employee_name] = employee_number\n",
    "print(\"Employee Name and Number:\",employee_dict)"
   ]
  },
  {
   "cell_type": "code",
   "execution_count": null,
   "id": "a34d8afd-07da-4d4b-9734-74f79b333e07",
   "metadata": {},
   "outputs": [
    {
     "name": "stdin",
     "output_type": "stream",
     "text": [
      "Enter the name of the user: Bob\n"
     ]
    },
    {
     "name": "stdout",
     "output_type": "stream",
     "text": [
      "User not founnd\n",
      "{'Ram': 9864543546, 'Shyam': 9876543210, 'Sita': 9988776655, 'Mohan': 1234567890}\n"
     ]
    }
   ],
   "source": [
    "phonebook = {\"Ram\": 9864543546, \"Shyam\": 9876543210, \"Sita\": 9988776655}\n",
    "user_name = input(\"Enter the name of the user:\")\n",
    "if user_name in phonebook:\n",
    "    new_number = int(input(\"Enter the new phone number: \"))\n",
    "    phonebook[user_name] = new_number\n",
    "    print(\"Phone number is updated successfully.\")\n",
    "else:\n",
    "    print(\"User not founnd\")\n",
    "phonebook[\"Mohan\"] = 1234567890\n",
    "print(phonebook)\n",
    "user_name1 = input(\"Enter the name of the user to delete:\")\n",
    "if user_name1 in phonebook:\n",
    "    del phonebook[user_name1]\n",
    "    print(\"User deleted successfully.\")"
   ]
  },
  {
   "cell_type": "code",
   "execution_count": null,
   "id": "b6305842-7978-4141-aa9e-b61c671895fa",
   "metadata": {},
   "outputs": [],
   "source": []
  }
 ],
 "metadata": {
  "kernelspec": {
   "display_name": "Python 3 (ipykernel)",
   "language": "python",
   "name": "python3"
  },
  "language_info": {
   "codemirror_mode": {
    "name": "ipython",
    "version": 3
   },
   "file_extension": ".py",
   "mimetype": "text/x-python",
   "name": "python",
   "nbconvert_exporter": "python",
   "pygments_lexer": "ipython3",
   "version": "3.12.7"
  }
 },
 "nbformat": 4,
 "nbformat_minor": 5
}
