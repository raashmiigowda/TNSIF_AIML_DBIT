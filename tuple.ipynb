{
 "cells": [
  {
   "cell_type": "code",
   "execution_count": 1,
   "id": "0154beea-5d0c-4daf-aa58-319ac73893dd",
   "metadata": {},
   "outputs": [
    {
     "name": "stdout",
     "output_type": "stream",
     "text": [
      "('hello', 13, 3.14, True)\n"
     ]
    }
   ],
   "source": [
    "tuple1 = (\"hello\",13, 3.14, True)\n",
    "print(tuple1)"
   ]
  },
  {
   "cell_type": "code",
   "execution_count": 2,
   "id": "4753e363-85dd-47f8-8e8c-526ce2343b8e",
   "metadata": {},
   "outputs": [
    {
     "name": "stdout",
     "output_type": "stream",
     "text": [
      "(1,)\n",
      "<class 'tuple'>\n"
     ]
    }
   ],
   "source": [
    "tupl2 = (1,)\n",
    "print(tupl2)\n",
    "print(type(tupl2))"
   ]
  },
  {
   "cell_type": "code",
   "execution_count": 3,
   "id": "522091cc-6c2d-4753-bfd9-46de955beeab",
   "metadata": {},
   "outputs": [
    {
     "name": "stdout",
     "output_type": "stream",
     "text": [
      "1\n",
      "<class 'int'>\n"
     ]
    }
   ],
   "source": [
    "tup3 = (1)\n",
    "print(tup3)\n",
    "print(type(tup3))"
   ]
  },
  {
   "cell_type": "code",
   "execution_count": 4,
   "id": "015a7870-9f65-4ab1-8274-25d809a39d32",
   "metadata": {},
   "outputs": [
    {
     "name": "stdout",
     "output_type": "stream",
     "text": [
      "()\n",
      "<class 'tuple'>\n"
     ]
    }
   ],
   "source": [
    "tup = ()\n",
    "print(tup)\n",
    "print(type(tup))"
   ]
  },
  {
   "cell_type": "code",
   "execution_count": 5,
   "id": "1b84c0ba-8fa2-48b3-b58d-4ce85378bd70",
   "metadata": {},
   "outputs": [
    {
     "name": "stdout",
     "output_type": "stream",
     "text": [
      "(1, 2, 3, 4)\n"
     ]
    }
   ],
   "source": [
    "tuple2 = tuple([1, 2, 3, 4])\n",
    "print(tuple2)"
   ]
  },
  {
   "cell_type": "code",
   "execution_count": 6,
   "id": "69ba6cc4-68f1-4f12-8add-bd1c0f746eed",
   "metadata": {},
   "outputs": [
    {
     "name": "stdout",
     "output_type": "stream",
     "text": [
      "(1, 2, 3, 4, 5, 6)\n",
      "(1, 2, 3, 4, 5, 6, 10)\n"
     ]
    }
   ],
   "source": [
    "t1 = (1,2,3,4,5)\n",
    "t2 = t1 + (6,)  # without a comma, it will not be a tuple\n",
    "print(t2)\n",
    "t2 += (10,)\n",
    "print(t2)"
   ]
  },
  {
   "cell_type": "code",
   "execution_count": 7,
   "id": "45bb3847-aaca-4dae-bd71-651d39774faf",
   "metadata": {},
   "outputs": [
    {
     "name": "stdin",
     "output_type": "stream",
     "text": [
      "Enter number of employees:  5\n",
      "Enter salary of a employee:  40000\n",
      "Enter salary of a employee:  4000\n",
      "Enter salary of a employee:  400000\n",
      "Enter salary of a employee:  50000\n",
      "Enter salary of a employee:  60000\n"
     ]
    },
    {
     "name": "stdout",
     "output_type": "stream",
     "text": [
      "Salaries of employees: (40000.0, 4000.0, 400000.0, 50000.0, 60000.0)\n",
      "Minimum salary: 4000.0\n",
      "Maximum salary: 400000.0\n"
     ]
    }
   ],
   "source": [
    "#Write a python program to input ‘n’ employee salaries and find the minimum and maximum salary amongst ‘n’ employees\n",
    "number_of_employees = int(input(\"Enter number of employees: \"))\n",
    "salaries = ()\n",
    "for i in range(number_of_employees):\n",
    "    salary = float(input(\"Enter salary of a employee: \"))\n",
    "    salaries = salaries + (salary,)\n",
    "print(\"Salaries of employees:\", salaries)\n",
    "print(\"Minimum salary:\", min(salaries))\n",
    "print(\"Maximum salary:\", max(salaries))"
   ]
  },
  {
   "cell_type": "code",
   "execution_count": null,
   "id": "73966b72-407f-4eae-a4e9-6fe987d8b511",
   "metadata": {},
   "outputs": [],
   "source": []
  }
 ],
 "metadata": {
  "kernelspec": {
   "display_name": "Python 3 (ipykernel)",
   "language": "python",
   "name": "python3"
  },
  "language_info": {
   "codemirror_mode": {
    "name": "ipython",
    "version": 3
   },
   "file_extension": ".py",
   "mimetype": "text/x-python",
   "name": "python",
   "nbconvert_exporter": "python",
   "pygments_lexer": "ipython3",
   "version": "3.12.7"
  }
 },
 "nbformat": 4,
 "nbformat_minor": 5
}
