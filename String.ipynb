{
 "cells": [
  {
   "cell_type": "code",
   "execution_count": 1,
   "id": "881fb2fe-5ff8-43af-b0dc-cbeaa9e82be3",
   "metadata": {},
   "outputs": [
    {
     "name": "stdout",
     "output_type": "stream",
     "text": [
      "Hello, World!\n"
     ]
    }
   ],
   "source": [
    "print(\"Hello, World!\")"
   ]
  },
  {
   "cell_type": "code",
   "execution_count": 2,
   "id": "8112a4e3-25cf-439e-8725-d1180976f19a",
   "metadata": {},
   "outputs": [
    {
     "name": "stdin",
     "output_type": "stream",
     "text": [
      "Enter a string:  Rashmi\n"
     ]
    },
    {
     "name": "stdout",
     "output_type": "stream",
     "text": [
      "You entered: Rashmi\n"
     ]
    }
   ],
   "source": [
    "input_str = input(\"Enter a string: \")\n",
    "print(\"You entered:\", input_str)"
   ]
  },
  {
   "cell_type": "code",
   "execution_count": 4,
   "id": "f5f7b27a-9326-4eb5-916e-8c7337895bb5",
   "metadata": {},
   "outputs": [
    {
     "name": "stdout",
     "output_type": "stream",
     "text": [
      "hello,i am rashmii!\n"
     ]
    }
   ],
   "source": [
    "#String Operations\n",
    "s = \"Hello,I am Rashmii!\"\n",
    "print(s.lower())          # Convert to lowercase"
   ]
  },
  {
   "cell_type": "code",
   "execution_count": 5,
   "id": "36499423-139e-4f2a-8ba2-4fbc66779f43",
   "metadata": {},
   "outputs": [
    {
     "name": "stdout",
     "output_type": "stream",
     "text": [
      "HELLO,I AM RASHMII!\n"
     ]
    }
   ],
   "source": [
    "print(s.upper())  "
   ]
  },
  {
   "cell_type": "code",
   "execution_count": 6,
   "id": "42b57006-219a-4629-ac04-a3cff0d1a6c9",
   "metadata": {},
   "outputs": [
    {
     "name": "stdout",
     "output_type": "stream",
     "text": [
      "Jello,I am Rashmii!\n"
     ]
    }
   ],
   "source": [
    "print(s.replace(\"H\", \"J\"))  # Replace 'H' with 'J'"
   ]
  },
  {
   "cell_type": "code",
   "execution_count": 7,
   "id": "e710fcb8-decc-45ad-9a98-5ff096545d08",
   "metadata": {},
   "outputs": [
    {
     "name": "stdout",
     "output_type": "stream",
     "text": [
      "['Hello', 'I am Rashmii!']\n"
     ]
    }
   ],
   "source": [
    "print(s.split(\",\"))       # Split the string by comma"
   ]
  },
  {
   "cell_type": "code",
   "execution_count": 8,
   "id": "02db04a3-c7f8-4ad6-ab7a-d82cdee1f873",
   "metadata": {},
   "outputs": [
    {
     "name": "stdout",
     "output_type": "stream",
     "text": [
      "Hello,I am Rashmii!\n"
     ]
    }
   ],
   "source": [
    "print(s.strip())          # Remove leading and trailing whitespace"
   ]
  },
  {
   "cell_type": "code",
   "execution_count": 9,
   "id": "844cd70f-e1ff-4c45-b232-137d8265e8bf",
   "metadata": {},
   "outputs": [
    {
     "name": "stdout",
     "output_type": "stream",
     "text": [
      "True\n"
     ]
    }
   ],
   "source": [
    "print(s.startswith(\"Hello\"))  # Check if string starts with \"Hello\""
   ]
  },
  {
   "cell_type": "code",
   "execution_count": 10,
   "id": "21854017-6bc3-49b2-a412-f1e258111670",
   "metadata": {},
   "outputs": [
    {
     "name": "stdout",
     "output_type": "stream",
     "text": [
      "11\n"
     ]
    }
   ],
   "source": [
    "print(s.find(\"Rashmii\"))  # Find the index of substring \"Rashmii\""
   ]
  },
  {
   "cell_type": "code",
   "execution_count": 11,
   "id": "28774abc-537e-44a8-8b69-ff22d0960dff",
   "metadata": {},
   "outputs": [
    {
     "name": "stdout",
     "output_type": "stream",
     "text": [
      "19\n"
     ]
    }
   ],
   "source": [
    "print(len(s)) "
   ]
  },
  {
   "cell_type": "code",
   "execution_count": 12,
   "id": "c1736101-ba8b-4f4a-ad1e-3d6821dd4d1b",
   "metadata": {},
   "outputs": [
    {
     "name": "stdout",
     "output_type": "stream",
     "text": [
      "True\n"
     ]
    }
   ],
   "source": [
    "print(s.endswith(\"!\"))"
   ]
  },
  {
   "cell_type": "code",
   "execution_count": 13,
   "id": "94e7aed1-21f0-45c9-bd95-992941dcba9a",
   "metadata": {},
   "outputs": [
    {
     "name": "stdout",
     "output_type": "stream",
     "text": [
      "H\n",
      "!\n",
      "Hello\n",
      " am Rashmii!\n",
      "Hello\n",
      "HloIa ahi!\n",
      "!iimhsaR ma I,olleH\n",
      "eo \n"
     ]
    }
   ],
   "source": [
    "#Indexing and Slicing\n",
    "print(s[0])        # First character    \n",
    "print(s[-1])       # Last character\n",
    "print(s[0:5])     # First five characters\n",
    "print(s[7:])      # Characters from index 7 to end\n",
    "print(s[:5])      # Characters from start to index 5\n",
    "print(s[::2])     # Every second character\n",
    "print(s[::-1])    # Reverse the string\n",
    "print(s[1:10:3])  # Characters from index 1 to 10 with step 3"
   ]
  },
  {
   "cell_type": "code",
   "execution_count": 14,
   "id": "d85777d6-8cf5-40f8-a74e-7be6ba87c532",
   "metadata": {},
   "outputs": [
    {
     "name": "stdout",
     "output_type": "stream",
     "text": [
      "Hello, Alice!\n"
     ]
    }
   ],
   "source": [
    "#Functions\n",
    "def greet(name):\n",
    "    return \"Hello, \" + name + \"!\"   \n",
    "print(greet(\"Alice\"))   "
   ]
  },
  {
   "cell_type": "code",
   "execution_count": null,
   "id": "daf8635d-d4b2-4efc-b62e-a8ffb811c94e",
   "metadata": {},
   "outputs": [],
   "source": []
  }
 ],
 "metadata": {
  "kernelspec": {
   "display_name": "Python 3 (ipykernel)",
   "language": "python",
   "name": "python3"
  },
  "language_info": {
   "codemirror_mode": {
    "name": "ipython",
    "version": 3
   },
   "file_extension": ".py",
   "mimetype": "text/x-python",
   "name": "python",
   "nbconvert_exporter": "python",
   "pygments_lexer": "ipython3",
   "version": "3.12.7"
  }
 },
 "nbformat": 4,
 "nbformat_minor": 5
}
