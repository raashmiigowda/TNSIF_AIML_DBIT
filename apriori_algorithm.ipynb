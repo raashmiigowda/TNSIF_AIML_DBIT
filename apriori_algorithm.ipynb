{
 "cells": [
  {
   "cell_type": "code",
   "execution_count": 2,
   "id": "43f74a4d-326a-433c-a1ab-0ba7b988edd2",
   "metadata": {},
   "outputs": [],
   "source": [
    "import pandas as pd\n",
    "from itertools import combinations, chain"
   ]
  },
  {
   "cell_type": "code",
   "execution_count": 3,
   "id": "7910683b-29c3-453d-af3b-895da28a00ee",
   "metadata": {},
   "outputs": [],
   "source": [
    "dataset = [\n",
    "    ['Coffee', 'Donut', 'Sandwich'],\n",
    "    ['Coffee', 'Donut'],\n",
    "    ['Coffee', 'Sandwich'],\n",
    "    ['Coffee', 'Muffin'],\n",
    "    ['Donut', 'Muffin']\n",
    "]\n",
    "n_trans = len(dataset)"
   ]
  },
  {
   "cell_type": "code",
   "execution_count": 4,
   "id": "dbaffbd0-85f0-42d0-9f67-f19710b73204",
   "metadata": {},
   "outputs": [],
   "source": [
    "def fmt_itemset(it):\n",
    "    return \"(\" + \", \".join(it) + \")\""
   ]
  },
  {
   "cell_type": "code",
   "execution_count": 5,
   "id": "cc87efbb-8176-4ad5-abbd-674dcb7578e5",
   "metadata": {},
   "outputs": [],
   "source": [
    "def support_count(itemset, transactions):\n",
    "    s = set(itemset)\n",
    "    cnt = sum(1 for t in transactions if s.issubset(set(t)))\n",
    "    sup = cnt / len(transactions)\n",
    "    return cnt, sup"
   ]
  },
  {
   "cell_type": "code",
   "execution_count": 6,
   "id": "2e04ab4b-59f3-4c0d-8d47-4d7b01a2c6ba",
   "metadata": {},
   "outputs": [],
   "source": [
    "all_items = sorted({item for t in dataset for item in t})"
   ]
  },
  {
   "cell_type": "code",
   "execution_count": 7,
   "id": "077ed2db-bdde-4e9e-8c55-ecb7b81581ad",
   "metadata": {},
   "outputs": [
    {
     "name": "stdout",
     "output_type": "stream",
     "text": [
      "Q1. Transactions:\n",
      " T1: ['Coffee', 'Donut', 'Sandwich']\n",
      " T2: ['Coffee', 'Donut']\n",
      " T3: ['Coffee', 'Sandwich']\n",
      " T4: ['Coffee', 'Muffin']\n",
      " T5: ['Donut', 'Muffin']\n",
      "Total transactions: 5\n",
      "\n"
     ]
    }
   ],
   "source": [
    "print(\"Q1. Transactions:\")\n",
    "for i, t in enumerate(dataset, 1):\n",
    "    print(f\" T{i}: {t}\")\n",
    "print(f\"Total transactions: {n_trans}\\n\")"
   ]
  },
  {
   "cell_type": "code",
   "execution_count": 8,
   "id": "eac3a503-190d-4c6d-bd52-509ea78d959f",
   "metadata": {},
   "outputs": [
    {
     "name": "stdout",
     "output_type": "stream",
     "text": [
      "Q2. One-hot encoded DataFrame (rows = transactions, columns = items):\n",
      "    Coffee  Donut  Muffin  Sandwich\n",
      "T1       1      1       0         1\n",
      "T2       1      1       0         0\n",
      "T3       1      0       0         1\n",
      "T4       1      0       1         0\n",
      "T5       0      1       1         0\n",
      "\n",
      "Explanation: each ROW = a transaction (T1..). each COLUMN = an item. 1 => present, 0 => absent\n",
      "\n"
     ]
    }
   ],
   "source": [
    "ohe_rows = [{item: (1 if item in t else 0) for item in all_items} for t in dataset]\n",
    "df_ohe = pd.DataFrame(ohe_rows, index=[f\"T{i}\" for i in range(1, n_trans+1)])\n",
    "print(\"Q2. One-hot encoded DataFrame (rows = transactions, columns = items):\")\n",
    "print(df_ohe)\n",
    "print(\"\\nExplanation: each ROW = a transaction (T1..). each COLUMN = an item. 1 => present, 0 => absent\\n\")"
   ]
  },
  {
   "cell_type": "code",
   "execution_count": 9,
   "id": "a32fbfe3-f425-4340-85b6-940f7870cebe",
   "metadata": {},
   "outputs": [
    {
     "name": "stdout",
     "output_type": "stream",
     "text": [
      "Q3. Frequent itemsets with min_support = 0.4:\n",
      "           itemset  count  support\n",
      "         (Coffee,)      4      0.8\n",
      "          (Donut,)      3      0.6\n",
      "   (Coffee, Donut)      2      0.4\n",
      "(Coffee, Sandwich)      2      0.4\n",
      "         (Muffin,)      2      0.4\n",
      "       (Sandwich,)      2      0.4\n",
      "\n"
     ]
    }
   ],
   "source": [
    "min_support = 0.4\n",
    "# generate all non-empty itemsets\n",
    "items = all_items\n",
    "all_itemsets = []\n",
    "for r in range(1, len(items)+1):\n",
    "    for comb in combinations(items, r):\n",
    "        all_itemsets.append(tuple(comb))\n",
    "\n",
    "support_list = []\n",
    "for itm in all_itemsets:\n",
    "    cnt, sup = support_count(itm, dataset)\n",
    "    support_list.append({\"itemset\": itm, \"count\": cnt, \"support\": round(sup, 3)})\n",
    "\n",
    "support_df = pd.DataFrame(support_list).sort_values([\"support\",\"itemset\"], ascending=[False, True]).reset_index(drop=True)\n",
    "freq_itemsets = support_df[support_df['support'] >= min_support].reset_index(drop=True)\n",
    "\n",
    "print(f\"Q3. Frequent itemsets with min_support = {min_support}:\")\n",
    "print(freq_itemsets.to_string(index=False))\n",
    "print()"
   ]
  },
  {
   "cell_type": "code",
   "execution_count": 10,
   "id": "dff9c457-6e14-4d2f-b901-54f518113d06",
   "metadata": {},
   "outputs": [
    {
     "name": "stdout",
     "output_type": "stream",
     "text": [
      "Q4. All association rules (support, confidence, lift):\n",
      " Rule 1: (Sandwich) -> (Coffee) | support=0.4, confidence=1.0, lift=1.25\n",
      " Rule 2: (Donut) -> (Coffee) | support=0.4, confidence=0.667, lift=0.833\n",
      " Rule 3: (Coffee) -> (Sandwich) | support=0.4, confidence=0.5, lift=1.25\n",
      " Rule 4: (Coffee) -> (Donut) | support=0.4, confidence=0.5, lift=0.833\n",
      "\n"
     ]
    }
   ],
   "source": [
    "rules = []\n",
    "# We'll use the support_df values for quick lookups\n",
    "support_lookup = {tuple(row['itemset']): row['support'] for _, row in support_df.iterrows()}\n",
    "\n",
    "for _, row in freq_itemsets.iterrows():\n",
    "    itemset = row['itemset']\n",
    "    sup_itemset = row['support']\n",
    "    if len(itemset) < 2:\n",
    "        continue\n",
    "    # all non-empty proper subsets A\n",
    "    for r in range(1, len(itemset)):\n",
    "        for A in combinations(itemset, r):\n",
    "            A = tuple(A)\n",
    "            B = tuple(sorted(set(itemset) - set(A)))\n",
    "            sup_A = support_lookup.get(A, 0)\n",
    "            sup_B = support_lookup.get(B, 0)\n",
    "            if sup_A == 0 or sup_B == 0:\n",
    "                continue\n",
    "            confidence = sup_itemset / sup_A\n",
    "            lift = confidence / sup_B\n",
    "            rules.append({\n",
    "                \"antecedent\": A,\n",
    "                \"consequent\": B,\n",
    "                \"itemset\": itemset,\n",
    "                \"support\": round(sup_itemset, 3),\n",
    "                \"confidence\": round(confidence, 3),\n",
    "                \"lift\": round(lift, 3)\n",
    "            })\n",
    "\n",
    "rules_df = pd.DataFrame(rules).sort_values(['confidence','lift'], ascending=[False, False]).reset_index(drop=True)\n",
    "\n",
    "print(\"Q4. All association rules (support, confidence, lift):\")\n",
    "if rules_df.empty:\n",
    "    print(\" No rules (no frequent itemsets of size>=2).\")\n",
    "else:\n",
    "    # Pretty-print rows\n",
    "    for i, r in rules_df.iterrows():\n",
    "        print(f\" Rule {i+1}: {fmt_itemset(r['antecedent'])} -> {fmt_itemset(r['consequent'])} | \"\n",
    "              f\"support={r['support']}, confidence={r['confidence']}, lift={r['lift']}\")\n",
    "print()"
   ]
  },
  {
   "cell_type": "code",
   "execution_count": 11,
   "id": "d377a25b-1406-41cd-88f5-29d80ddf39fc",
   "metadata": {},
   "outputs": [
    {
     "name": "stdout",
     "output_type": "stream",
     "text": [
      "Q5. Rules with support >= 0.4 and confidence >= 0.6:\n",
      " Rule 1: (Sandwich) -> (Coffee) | support=0.4, confidence=1.0, lift=1.25\n",
      " Rule 2: (Donut) -> (Coffee) | support=0.4, confidence=0.667, lift=0.833\n",
      "\n"
     ]
    }
   ],
   "source": [
    "min_confidence = 0.6\n",
    "qualified = rules_df[(rules_df['support'] >= min_support) & (rules_df['confidence'] >= min_confidence)].reset_index(drop=True)\n",
    "\n",
    "print(f\"Q5. Rules with support >= {min_support} and confidence >= {min_confidence}:\")\n",
    "if qualified.empty:\n",
    "    print(\" No rules meet both thresholds.\")\n",
    "else:\n",
    "    for i, r in qualified.iterrows():\n",
    "        print(f\" Rule {i+1}: {fmt_itemset(r['antecedent'])} -> {fmt_itemset(r['consequent'])} | \"\n",
    "              f\"support={r['support']}, confidence={r['confidence']}, lift={r['lift']}\")\n",
    "print()"
   ]
  },
  {
   "cell_type": "code",
   "execution_count": 12,
   "id": "a693020b-9e0f-44a7-acf6-50788fe91b9b",
   "metadata": {},
   "outputs": [
    {
     "name": "stdout",
     "output_type": "stream",
     "text": [
      "Q6. Interpretation of a strong rule:\n",
      " Rule: (Sandwich) -> (Coffee)\n",
      " Support = 0.4, Confidence = 1.0, Lift = 1.25\n",
      " Interpretation: If a customer buys ('Sandwich',), they are likely to also buy ('Coffee',).\n",
      "\n"
     ]
    }
   ],
   "source": [
    "if not qualified.empty:\n",
    "    # choose by highest confidence then highest lift\n",
    "    chosen = qualified.sort_values(['confidence','lift'], ascending=[False, False]).iloc[0]\n",
    "    A = chosen['antecedent']\n",
    "    B = chosen['consequent']\n",
    "    print(\"Q6. Interpretation of a strong rule:\")\n",
    "    print(f\" Rule: {fmt_itemset(A)} -> {fmt_itemset(B)}\")\n",
    "    print(f\" Support = {chosen['support']}, Confidence = {chosen['confidence']}, Lift = {chosen['lift']}\")\n",
    "    print(f\" Interpretation: If a customer buys {A}, they are likely to also buy {B}.\")\n",
    "else:\n",
    "    print(\"Q6. No qualified rules to interpret.\")\n",
    "print()"
   ]
  },
  {
   "cell_type": "code",
   "execution_count": 13,
   "id": "f541eede-6b5c-4708-8f2e-9853bd0d3597",
   "metadata": {},
   "outputs": [
    {
     "name": "stdout",
     "output_type": "stream",
     "text": [
      "Q7. Experiments (min_support, min_confidence) -> (n_frequent_itemsets, n_rules_passing_both):\n",
      " (0.4, 0.6) -> (6, 2)\n",
      " (0.4, 0.7) -> (6, 1)\n",
      " (0.5, 0.6) -> (2, 0)\n",
      " (0.6, 0.6) -> (2, 0)\n",
      " (0.3, 0.5) -> (6, 4)\n",
      "\n",
      "Observation: Raising min_support reduces frequent itemsets; raising min_confidence reduces accepted rules.\n",
      "\n"
     ]
    }
   ],
   "source": [
    "def experiment(ms, mc):\n",
    "    freq = support_df[support_df['support'] >= ms]\n",
    "    # build rules from freq and count rules that meet both\n",
    "    rcount = 0\n",
    "    for _, row in freq.iterrows():\n",
    "        it = row['itemset']\n",
    "        sup_it = row['support']\n",
    "        if len(it) < 2:\n",
    "            continue\n",
    "        for r in range(1, len(it)):\n",
    "            for A in combinations(it, r):\n",
    "                A = tuple(A)\n",
    "                B = tuple(sorted(set(it) - set(A)))\n",
    "                sup_A = support_lookup.get(A, 0)\n",
    "                if sup_A == 0:\n",
    "                    continue\n",
    "                conf = sup_it / sup_A\n",
    "                if sup_it >= ms and conf >= mc:\n",
    "                    rcount += 1\n",
    "    return len(freq), rcount\n",
    "\n",
    "tests = [(0.4,0.6),(0.4,0.7),(0.5,0.6),(0.6,0.6),(0.3,0.5)]\n",
    "print(\"Q7. Experiments (min_support, min_confidence) -> (n_frequent_itemsets, n_rules_passing_both):\")\n",
    "for ms, mc in tests:\n",
    "    n_freq, n_rules = experiment(ms, mc)\n",
    "    print(f\" ({ms}, {mc}) -> ({n_freq}, {n_rules})\")\n",
    "print()\n",
    "print(\"Observation: Raising min_support reduces frequent itemsets; raising min_confidence reduces accepted rules.\\n\")"
   ]
  },
  {
   "cell_type": "code",
   "execution_count": 14,
   "id": "477ee197-bdfc-450e-bc05-bf6df51ce826",
   "metadata": {},
   "outputs": [
    {
     "name": "stdout",
     "output_type": "stream",
     "text": [
      "Q8. Why Lift > 1 indicates a good association rule:\n",
      " - Lift = support(A∪B) / (support(A) * support(B)).\n",
      " - If A and B were independent, lift = 1.\n",
      " - Lift > 1: A and B occur together more frequently than expected under independence -> positive association.\n",
      " - Lift < 1: they co-occur less often than expected -> negative association.\n",
      "\n"
     ]
    }
   ],
   "source": [
    "print(\"Q8. Why Lift > 1 indicates a good association rule:\")\n",
    "print(\" - Lift = support(A∪B) / (support(A) * support(B)).\")\n",
    "print(\" - If A and B were independent, lift = 1.\")\n",
    "print(\" - Lift > 1: A and B occur together more frequently than expected under independence -> positive association.\")\n",
    "print(\" - Lift < 1: they co-occur less often than expected -> negative association.\")\n",
    "print()"
   ]
  },
  {
   "cell_type": "code",
   "execution_count": null,
   "id": "cadaa336-7fa9-43c2-b99c-919dbe194e56",
   "metadata": {},
   "outputs": [],
   "source": []
  }
 ],
 "metadata": {
  "kernelspec": {
   "display_name": "Python 3 (ipykernel)",
   "language": "python",
   "name": "python3"
  },
  "language_info": {
   "codemirror_mode": {
    "name": "ipython",
    "version": 3
   },
   "file_extension": ".py",
   "mimetype": "text/x-python",
   "name": "python",
   "nbconvert_exporter": "python",
   "pygments_lexer": "ipython3",
   "version": "3.12.7"
  }
 },
 "nbformat": 4,
 "nbformat_minor": 5
}
